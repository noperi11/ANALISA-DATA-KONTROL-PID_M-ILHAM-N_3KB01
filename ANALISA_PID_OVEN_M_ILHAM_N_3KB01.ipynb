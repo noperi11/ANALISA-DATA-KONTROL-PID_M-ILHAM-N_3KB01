{
  "nbformat": 4,
  "nbformat_minor": 0,
  "metadata": {
    "colab": {
      "provenance": []
    },
    "kernelspec": {
      "name": "python3",
      "display_name": "Python 3"
    },
    "language_info": {
      "name": "python"
    }
  },
  "cells": [
    {
      "cell_type": "markdown",
      "source": [
        "### **Analisa Simulasi Kontrol PID dalam Sistem Oven**\n",
        "\n",
        "\n",
        "Dalam Simulasi ini kita akan melihat bagaimana Kontrol PID dalam mengendalikan pemanas dan mengatur suhu oven dengan menggunakan nilai-nilai kontrol PID sebagai berikut :\n",
        "\n",
        "*   P = 5\n",
        "*   I = 1\n",
        "*   D = 3\n"
      ],
      "metadata": {
        "id": "xx4ck6E_UD9Q"
      }
    },
    {
      "cell_type": "code",
      "source": [
        "pip install tclab"
      ],
      "metadata": {
        "id": "nzjMszEs-jMm",
        "colab": {
          "base_uri": "https://localhost:8080/"
        },
        "outputId": "e981fb32-7e68-4089-a0de-dcd23cee3e12"
      },
      "execution_count": 2,
      "outputs": [
        {
          "output_type": "stream",
          "name": "stdout",
          "text": [
            "Collecting tclab\n",
            "  Downloading tclab-1.0.0-py2.py3-none-any.whl (20 kB)\n",
            "Collecting pyserial (from tclab)\n",
            "  Downloading pyserial-3.5-py2.py3-none-any.whl (90 kB)\n",
            "\u001b[2K     \u001b[90m━━━━━━━━━━━━━━━━━━━━━━━━━━━━━━━━━━━━━━━━\u001b[0m \u001b[32m90.6/90.6 kB\u001b[0m \u001b[31m2.9 MB/s\u001b[0m eta \u001b[36m0:00:00\u001b[0m\n",
            "\u001b[?25hInstalling collected packages: pyserial, tclab\n",
            "Successfully installed pyserial-3.5 tclab-1.0.0\n"
          ]
        }
      ]
    },
    {
      "cell_type": "markdown",
      "source": [
        "Menginstall Library TCLab"
      ],
      "metadata": {
        "id": "FxvcMOXoShbi"
      }
    },
    {
      "cell_type": "code",
      "source": [
        "pip install matplotlib"
      ],
      "metadata": {
        "id": "u8zLKCph_KId",
        "colab": {
          "base_uri": "https://localhost:8080/"
        },
        "outputId": "33e736c7-76a6-4ea5-d6ac-cf88d4f22db3"
      },
      "execution_count": 3,
      "outputs": [
        {
          "output_type": "stream",
          "name": "stdout",
          "text": [
            "Requirement already satisfied: matplotlib in /usr/local/lib/python3.10/dist-packages (3.7.1)\n",
            "Requirement already satisfied: contourpy>=1.0.1 in /usr/local/lib/python3.10/dist-packages (from matplotlib) (1.1.1)\n",
            "Requirement already satisfied: cycler>=0.10 in /usr/local/lib/python3.10/dist-packages (from matplotlib) (0.12.1)\n",
            "Requirement already satisfied: fonttools>=4.22.0 in /usr/local/lib/python3.10/dist-packages (from matplotlib) (4.43.1)\n",
            "Requirement already satisfied: kiwisolver>=1.0.1 in /usr/local/lib/python3.10/dist-packages (from matplotlib) (1.4.5)\n",
            "Requirement already satisfied: numpy>=1.20 in /usr/local/lib/python3.10/dist-packages (from matplotlib) (1.23.5)\n",
            "Requirement already satisfied: packaging>=20.0 in /usr/local/lib/python3.10/dist-packages (from matplotlib) (23.2)\n",
            "Requirement already satisfied: pillow>=6.2.0 in /usr/local/lib/python3.10/dist-packages (from matplotlib) (9.4.0)\n",
            "Requirement already satisfied: pyparsing>=2.3.1 in /usr/local/lib/python3.10/dist-packages (from matplotlib) (3.1.1)\n",
            "Requirement already satisfied: python-dateutil>=2.7 in /usr/local/lib/python3.10/dist-packages (from matplotlib) (2.8.2)\n",
            "Requirement already satisfied: six>=1.5 in /usr/local/lib/python3.10/dist-packages (from python-dateutil>=2.7->matplotlib) (1.16.0)\n"
          ]
        }
      ]
    },
    {
      "cell_type": "markdown",
      "source": [
        "Menginstall Library Matplotlib untuk Plotting/Memvisualisasikan data"
      ],
      "metadata": {
        "id": "qdUp17NmTa3C"
      }
    },
    {
      "cell_type": "code",
      "source": [
        "%matplotlib inline\n",
        "from tclab import clock, setup, Historian, Plotter\n",
        "\n",
        "\n",
        "def PID(Kp, Ki, Kd, MV_bar=0):\n",
        "    e_prev = 0\n",
        "    t_prev = -100\n",
        "    I = 0\n",
        "\n",
        "    MV = MV_bar\n",
        "\n",
        "    while True:\n",
        "        t, PV, SP = yield MV\n",
        "\n",
        "        e = SP - PV\n",
        "\n",
        "        P = Kp*e\n",
        "        I = I + Ki*e*(t - t_prev)\n",
        "        D = Kd*(e - e_prev)/(t - t_prev)\n",
        "\n",
        "        MV = MV_bar + P + I + D\n",
        "\n",
        "        e_prev = e\n",
        "        t_prev = t\n"
      ],
      "metadata": {
        "id": "anJdHGupL3QE"
      },
      "execution_count": 4,
      "outputs": []
    },
    {
      "cell_type": "markdown",
      "source": [
        "Kode ini mendefinisikan fungsi bernama PID yang mengimplementasikan pengontrol PID. Fungsi ini mengambil tiga parameter: Kp, Ki, dan Kd, yang masing-masing merupakan gain proporsional, integral, dan derivatif. Fungsi ini juga mengambil parameter opsional MV_bar, yang merupakan nilai awal dari variabel yang dimanipulasi.\n",
        "\n",
        "Fungsi ini menginisialisasi beberapa variabel untuk menyimpan data dari iterasi loop sebelumnya. Loop while True: berjalan tanpa batas, menghasilkan nilai saat ini dari variabel yang dimanipulasi (MV) dan menunggu nilai baru dari waktu (t), variabel proses (PV), dan setpoint (SP).\n",
        "\n",
        "Perhitungan PID dilakukan di dalam loop. Kesalahan (e) dihitung sebagai perbedaan antara setpoint dan variabel proses. Istilah proporsional (P), integral (I), dan derivatif (D) kemudian dihitung menggunakan kesalahan dan perbedaan waktu. Variabel yang dimanipulasi diperbarui dengan menambahkan istilah P, I, dan D ke nilai awal.\n",
        "\n",
        "Terakhir, data yang disimpan diperbarui untuk iterasi loop berikutnya."
      ],
      "metadata": {
        "id": "6ef_Fk3jTr3s"
      }
    },
    {
      "cell_type": "code",
      "source": [
        "TCLab = setup(connected=False, speedup=10)"
      ],
      "metadata": {
        "id": "3y1en8LgMwhT"
      },
      "execution_count": 5,
      "outputs": []
    },
    {
      "cell_type": "markdown",
      "source": [
        "Kode ini menyiapkan perangkat keras TCLab. Parameter connected=False menunjukkan bahwa kode tersebut tidak terhubung ke perangkat keras nyata, tetapi mensimulasikan perangkat keras. Parameter speedup=10 menunjukkan bahwa simulasi harus berjalan 10 kali lebih cepat daripada waktu nyata."
      ],
      "metadata": {
        "id": "-gL0Z8BVMzFn"
      }
    },
    {
      "cell_type": "code",
      "source": [
        "controller = PID(5, 1, 3)\n",
        "controller.send(None)"
      ],
      "metadata": {
        "colab": {
          "base_uri": "https://localhost:8080/"
        },
        "id": "I-OF42RONG7U",
        "outputId": "0222b80a-f1a4-45e5-832e-6898a4322bb8"
      },
      "execution_count": 6,
      "outputs": [
        {
          "output_type": "execute_result",
          "data": {
            "text/plain": [
              "0"
            ]
          },
          "metadata": {},
          "execution_count": 6
        }
      ]
    },
    {
      "cell_type": "markdown",
      "source": [
        "Kode ini membuat objek pengontrol PID dengan gain yang ditentukan dan menginisialisasinya.\n",
        "\n"
      ],
      "metadata": {
        "id": "SMvHsntINP3x"
      }
    },
    {
      "cell_type": "code",
      "execution_count": 7,
      "metadata": {
        "id": "LZMR32sv-WR9",
        "colab": {
          "base_uri": "https://localhost:8080/",
          "height": 978
        },
        "outputId": "ff1572d3-d265-4dcd-b722-28e16d746ed1"
      },
      "outputs": [
        {
          "output_type": "display_data",
          "data": {
            "text/plain": [
              "<Figure size 640x480 with 4 Axes>"
            ],
            "image/png": "[encoded data removed]"
          },
          "metadata": {}
        },
        {
          "output_type": "stream",
          "name": "stdout",
          "text": [
            "TCLab Model disconnected successfully.\n"
          ]
        },
        {
          "output_type": "display_data",
          "data": {
            "text/plain": [
              "<Figure size 640x480 with 4 Axes>"
            ],
            "image/png": "[encoded data removed]"
          },
          "metadata": {}
        }
      ],
      "source": [
        "tfinal = 800\n",
        "\n",
        "with TCLab() as lab:\n",
        "    h = Historian([('SP', lambda: SP), ('T1', lambda: lab.T1), ('MV', lambda: MV), ('Q1', lab.Q1)])\n",
        "    p = Plotter(h, tfinal)\n",
        "    T1 = lab.T1\n",
        "    for t in clock(tfinal, 2):\n",
        "        SP = T1 if t < 80 else 80\n",
        "        PV = lab.T1\n",
        "        MV = controller.send([t, PV, SP])\n",
        "        lab.U1 = MV\n",
        "        p.update(t)"
      ]
    },
    {
      "cell_type": "markdown",
      "source": [
        "Kode ini menjalankan simulasi selama 800 detik dan menampilkan hasil dari simulasi kedalam plot/grafik."
      ],
      "metadata": {
        "id": "1fT6rJXkNlFR"
      }
    }
  ]
}
